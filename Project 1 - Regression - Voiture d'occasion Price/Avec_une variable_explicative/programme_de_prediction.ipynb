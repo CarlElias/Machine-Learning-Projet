{
 "cells": [
  {
   "cell_type": "code",
   "execution_count": 5,
   "metadata": {},
   "outputs": [
    {
     "name": "stdout",
     "output_type": "stream",
     "text": [
      "pente (a) :  [10.89900704]\n",
      "Ordonné à l'origine (b) :  [-15378.23479292]\n"
     ]
    }
   ],
   "source": [
    "import joblib\n",
    "import pandas as pd\n",
    "\n",
    "#chargement du modèle\n",
    "model_charger = joblib.load(filename='price.pkl')\n",
    "\n",
    "\n",
    "#Verification des paramètres du model \n",
    "print(\"pente (a) : \", model_charger.coef_[0])\n",
    "print(\"Ordonné à l'origine (b) : \",model_charger.intercept_)\n",
    "#Coefficient de determination du modèle"
   ]
  },
  {
   "cell_type": "code",
   "execution_count": 6,
   "metadata": {},
   "outputs": [
    {
     "name": "stdout",
     "output_type": "stream",
     "text": [
      ">>> le prix auqeul voulez vendre votre voiture est élévé \n",
      ">>> le prix predit par notre modèle est :  [22768.29] $\n"
     ]
    }
   ],
   "source": [
    "user = input(\"etes vous un acheteur ou un vendeur ? : \\n >>>\")\n",
    "if user == \"acheteur\" : \n",
    "    poids = float(input('entrer le poids à vide de la voitutre qui vous interesse : \\n >>>'))\n",
    "    prix_annonce = float(input(\"entrer le prix afficher sur l'anoncce de la voiture qui vous interesse : \\n >>>\"))\n",
    "    prix_predit = model_charger.predict(pd.DataFrame([poids], columns=['curb-weight']))\n",
    "    if prix_annonce > prix_predit :\n",
    "        print(\">>> le prix affiché sur l'annonce est élevé \\n>>> le prix predit par notre modèle est : \",prix_predit[0].round(2), \"$\") \n",
    "    else: \n",
    "        print(\"le prix affiché sur l'annonce est abordable, c'est une bonne affaire !😉\") \n",
    "        \n",
    "if user == \"vendeur\" : \n",
    "    poids = float(input('entrer le poids à vide de la voitutre à vendre : \\n >>>'))\n",
    "    prix_annonce = float(input(\"entrer le prix auquel vous voulez vendre votre voiture : \\n >>>\"))\n",
    "    prix_predit = model_charger.predict(pd.DataFrame([poids], columns=['curb-weight']))\n",
    "    if prix_annonce > prix_predit :\n",
    "        print(\">>> le prix auqeul voulez vendre votre voiture est élévé \\n>>> le prix predit par notre modèle est : \",prix_predit[0].round(2), \"$\") \n",
    "    else: \n",
    "        print(\"le prix auqeul voulez vendre votre voiture est faible par rapport au prix predit par notre modèle : \",prix_predit[0].round(2), \"$\")"
   ]
  }
 ],
 "metadata": {
  "kernelspec": {
   "display_name": "Python 3.10.0 64-bit",
   "language": "python",
   "name": "python3"
  },
  "language_info": {
   "codemirror_mode": {
    "name": "ipython",
    "version": 3
   },
   "file_extension": ".py",
   "mimetype": "text/x-python",
   "name": "python",
   "nbconvert_exporter": "python",
   "pygments_lexer": "ipython3",
   "version": "3.10.0"
  },
  "orig_nbformat": 4,
  "vscode": {
   "interpreter": {
    "hash": "d6ca2a292a4b52c4142e8bc3c5b12afae78448b15ea690b87880d9a108cd2278"
   }
  }
 },
 "nbformat": 4,
 "nbformat_minor": 2
}
