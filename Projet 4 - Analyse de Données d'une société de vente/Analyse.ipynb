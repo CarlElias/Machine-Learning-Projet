{
 "cells": [
  {
   "cell_type": "markdown",
   "metadata": {},
   "source": [
    "<h1> Découverte des Données </h1>"
   ]
  },
  {
   "cell_type": "code",
   "execution_count": 1,
   "metadata": {},
   "outputs": [],
   "source": [
    "import os #Mannipuler et explorer plusieurs fichier\n",
    "import pandas as pd\n",
    "import numpy as np\n",
    "import matplotlib.pyplot as plt\n",
    "import seaborn as sns"
   ]
  },
  {
   "cell_type": "code",
   "execution_count": 2,
   "metadata": {},
   "outputs": [
    {
     "name": "stdout",
     "output_type": "stream",
     "text": [
      "2019_Sales.csv\n",
      "Sales_April_2019.csv\n",
      "Sales_August_2019.csv\n",
      "Sales_December_2019.csv\n",
      "Sales_February_2019.csv\n",
      "Sales_January_2019.csv\n",
      "Sales_July_2019.csv\n",
      "Sales_June_2019.csv\n",
      "Sales_March_2019.csv\n",
      "Sales_May_2019.csv\n",
      "Sales_November_2019.csv\n",
      "Sales_October_2019.csv\n",
      "Sales_September_2019.csv\n"
     ]
    }
   ],
   "source": [
    "#Collecter les datatsets \n",
    "files = [file for file in os.listdir(r'E:/IA & Big Data/Data Analysis/Analyse de Vente Société/Sales_Data')]\n",
    "for file in files:\n",
    "    print(file)"
   ]
  },
  {
   "cell_type": "code",
   "execution_count": 3,
   "metadata": {},
   "outputs": [
    {
     "name": "stdout",
     "output_type": "stream",
     "text": [
      "      Order ID                     Product Quantity Ordered Price Each  \\\n",
      "0       176558        USB-C Charging Cable                2      11.95   \n",
      "1          NaN                         NaN              NaN        NaN   \n",
      "2       176559  Bose SoundSport Headphones                1      99.99   \n",
      "3       176560                Google Phone                1        600   \n",
      "4       176560            Wired Headphones                1      11.99   \n",
      "...        ...                         ...              ...        ...   \n",
      "11681   259353      AAA Batteries (4-pack)                3       2.99   \n",
      "11682   259354                      iPhone                1        700   \n",
      "11683   259355                      iPhone                1        700   \n",
      "11684   259356      34in Ultrawide Monitor                1     379.99   \n",
      "11685   259357        USB-C Charging Cable                1      11.95   \n",
      "\n",
      "           Order Date                         Purchase Address  \n",
      "0      04/19/19 08:46             917 1st St, Dallas, TX 75001  \n",
      "1                 NaN                                      NaN  \n",
      "2      04/07/19 22:30        682 Chestnut St, Boston, MA 02215  \n",
      "3      04/12/19 14:38     669 Spruce St, Los Angeles, CA 90001  \n",
      "4      04/12/19 14:38     669 Spruce St, Los Angeles, CA 90001  \n",
      "...               ...                                      ...  \n",
      "11681  09/17/19 20:56   840 Highland St, Los Angeles, CA 90001  \n",
      "11682  09/01/19 16:00  216 Dogwood St, San Francisco, CA 94016  \n",
      "11683  09/23/19 07:39     220 12th St, San Francisco, CA 94016  \n",
      "11684  09/19/19 17:30   511 Forest St, San Francisco, CA 94016  \n",
      "11685  09/30/19 00:18   250 Meadow St, San Francisco, CA 94016  \n",
      "\n",
      "[1494800 rows x 6 columns]\n"
     ]
    }
   ],
   "source": [
    "chemin = r'E:/IA & Big Data/Data Analysis/Analyse de Vente Société/Sales_Data'\n",
    "Donnees = pd.DataFrame() #Création de Base de données vide\n",
    "\n",
    "for file in files :\n",
    "    current_data = pd.read_csv(chemin + '/' + file)\n",
    "    Donnees = pd.concat([Donnees, current_data])\n",
    "    \n",
    "print(Donnees)"
   ]
  },
  {
   "cell_type": "code",
   "execution_count": 4,
   "metadata": {},
   "outputs": [],
   "source": [
    "Donnees.to_csv(chemin+'/2019_Sales.csv', index=False) \n",
    "#Creation d'un fichier csv contenant toutes les données concactener"
   ]
  },
  {
   "cell_type": "code",
   "execution_count": 5,
   "metadata": {},
   "outputs": [
    {
     "data": {
      "text/plain": [
       "(1490440, 6)"
      ]
     },
     "execution_count": 5,
     "metadata": {},
     "output_type": "execute_result"
    }
   ],
   "source": [
    "#Verifier si il y a des valeur manquantes \n",
    "Donnees.isnull().sum()\n",
    "#On peut voir qu'il y a 545 valeurs manquantes et comme nous disposont de 186850 données, on peut les supprimer\n",
    "Donnees = Donnees.dropna(how='all')\n",
    "Donnees.shape"
   ]
  },
  {
   "cell_type": "markdown",
   "metadata": {},
   "source": [
    "<h1><b> 1- <u>Quel est le mois durant lequel nous avons realiser le meilleur chiffre ?</u></b></h1>"
   ]
  },
  {
   "cell_type": "code",
   "execution_count": 6,
   "metadata": {},
   "outputs": [
    {
     "data": {
      "text/html": [
       "<div>\n",
       "<style scoped>\n",
       "    .dataframe tbody tr th:only-of-type {\n",
       "        vertical-align: middle;\n",
       "    }\n",
       "\n",
       "    .dataframe tbody tr th {\n",
       "        vertical-align: top;\n",
       "    }\n",
       "\n",
       "    .dataframe thead th {\n",
       "        text-align: right;\n",
       "    }\n",
       "</style>\n",
       "<table border=\"1\" class=\"dataframe\">\n",
       "  <thead>\n",
       "    <tr style=\"text-align: right;\">\n",
       "      <th></th>\n",
       "      <th>Order ID</th>\n",
       "      <th>Product</th>\n",
       "      <th>Quantity Ordered</th>\n",
       "      <th>Price Each</th>\n",
       "      <th>Order Date</th>\n",
       "      <th>Purchase Address</th>\n",
       "      <th>Mois</th>\n",
       "    </tr>\n",
       "  </thead>\n",
       "  <tbody>\n",
       "    <tr>\n",
       "      <th>0</th>\n",
       "      <td>176558</td>\n",
       "      <td>USB-C Charging Cable</td>\n",
       "      <td>2</td>\n",
       "      <td>11.95</td>\n",
       "      <td>04/19/19 08:46</td>\n",
       "      <td>917 1st St, Dallas, TX 75001</td>\n",
       "      <td>4</td>\n",
       "    </tr>\n",
       "    <tr>\n",
       "      <th>2</th>\n",
       "      <td>176559</td>\n",
       "      <td>Bose SoundSport Headphones</td>\n",
       "      <td>1</td>\n",
       "      <td>99.99</td>\n",
       "      <td>04/07/19 22:30</td>\n",
       "      <td>682 Chestnut St, Boston, MA 02215</td>\n",
       "      <td>4</td>\n",
       "    </tr>\n",
       "    <tr>\n",
       "      <th>3</th>\n",
       "      <td>176560</td>\n",
       "      <td>Google Phone</td>\n",
       "      <td>1</td>\n",
       "      <td>600</td>\n",
       "      <td>04/12/19 14:38</td>\n",
       "      <td>669 Spruce St, Los Angeles, CA 90001</td>\n",
       "      <td>4</td>\n",
       "    </tr>\n",
       "    <tr>\n",
       "      <th>4</th>\n",
       "      <td>176560</td>\n",
       "      <td>Wired Headphones</td>\n",
       "      <td>1</td>\n",
       "      <td>11.99</td>\n",
       "      <td>04/12/19 14:38</td>\n",
       "      <td>669 Spruce St, Los Angeles, CA 90001</td>\n",
       "      <td>4</td>\n",
       "    </tr>\n",
       "    <tr>\n",
       "      <th>5</th>\n",
       "      <td>176561</td>\n",
       "      <td>Wired Headphones</td>\n",
       "      <td>1</td>\n",
       "      <td>11.99</td>\n",
       "      <td>04/30/19 09:27</td>\n",
       "      <td>333 8th St, Los Angeles, CA 90001</td>\n",
       "      <td>4</td>\n",
       "    </tr>\n",
       "    <tr>\n",
       "      <th>...</th>\n",
       "      <td>...</td>\n",
       "      <td>...</td>\n",
       "      <td>...</td>\n",
       "      <td>...</td>\n",
       "      <td>...</td>\n",
       "      <td>...</td>\n",
       "      <td>...</td>\n",
       "    </tr>\n",
       "    <tr>\n",
       "      <th>11681</th>\n",
       "      <td>259353</td>\n",
       "      <td>AAA Batteries (4-pack)</td>\n",
       "      <td>3</td>\n",
       "      <td>2.99</td>\n",
       "      <td>09/17/19 20:56</td>\n",
       "      <td>840 Highland St, Los Angeles, CA 90001</td>\n",
       "      <td>9</td>\n",
       "    </tr>\n",
       "    <tr>\n",
       "      <th>11682</th>\n",
       "      <td>259354</td>\n",
       "      <td>iPhone</td>\n",
       "      <td>1</td>\n",
       "      <td>700</td>\n",
       "      <td>09/01/19 16:00</td>\n",
       "      <td>216 Dogwood St, San Francisco, CA 94016</td>\n",
       "      <td>9</td>\n",
       "    </tr>\n",
       "    <tr>\n",
       "      <th>11683</th>\n",
       "      <td>259355</td>\n",
       "      <td>iPhone</td>\n",
       "      <td>1</td>\n",
       "      <td>700</td>\n",
       "      <td>09/23/19 07:39</td>\n",
       "      <td>220 12th St, San Francisco, CA 94016</td>\n",
       "      <td>9</td>\n",
       "    </tr>\n",
       "    <tr>\n",
       "      <th>11684</th>\n",
       "      <td>259356</td>\n",
       "      <td>34in Ultrawide Monitor</td>\n",
       "      <td>1</td>\n",
       "      <td>379.99</td>\n",
       "      <td>09/19/19 17:30</td>\n",
       "      <td>511 Forest St, San Francisco, CA 94016</td>\n",
       "      <td>9</td>\n",
       "    </tr>\n",
       "    <tr>\n",
       "      <th>11685</th>\n",
       "      <td>259357</td>\n",
       "      <td>USB-C Charging Cable</td>\n",
       "      <td>1</td>\n",
       "      <td>11.95</td>\n",
       "      <td>09/30/19 00:18</td>\n",
       "      <td>250 Meadow St, San Francisco, CA 94016</td>\n",
       "      <td>9</td>\n",
       "    </tr>\n",
       "  </tbody>\n",
       "</table>\n",
       "<p>1487600 rows × 7 columns</p>\n",
       "</div>"
      ],
      "text/plain": [
       "      Order ID                     Product Quantity Ordered Price Each  \\\n",
       "0       176558        USB-C Charging Cable                2      11.95   \n",
       "2       176559  Bose SoundSport Headphones                1      99.99   \n",
       "3       176560                Google Phone                1        600   \n",
       "4       176560            Wired Headphones                1      11.99   \n",
       "5       176561            Wired Headphones                1      11.99   \n",
       "...        ...                         ...              ...        ...   \n",
       "11681   259353      AAA Batteries (4-pack)                3       2.99   \n",
       "11682   259354                      iPhone                1        700   \n",
       "11683   259355                      iPhone                1        700   \n",
       "11684   259356      34in Ultrawide Monitor                1     379.99   \n",
       "11685   259357        USB-C Charging Cable                1      11.95   \n",
       "\n",
       "           Order Date                         Purchase Address  Mois  \n",
       "0      04/19/19 08:46             917 1st St, Dallas, TX 75001     4  \n",
       "2      04/07/19 22:30        682 Chestnut St, Boston, MA 02215     4  \n",
       "3      04/12/19 14:38     669 Spruce St, Los Angeles, CA 90001     4  \n",
       "4      04/12/19 14:38     669 Spruce St, Los Angeles, CA 90001     4  \n",
       "5      04/30/19 09:27        333 8th St, Los Angeles, CA 90001     4  \n",
       "...               ...                                      ...   ...  \n",
       "11681  09/17/19 20:56   840 Highland St, Los Angeles, CA 90001     9  \n",
       "11682  09/01/19 16:00  216 Dogwood St, San Francisco, CA 94016     9  \n",
       "11683  09/23/19 07:39     220 12th St, San Francisco, CA 94016     9  \n",
       "11684  09/19/19 17:30   511 Forest St, San Francisco, CA 94016     9  \n",
       "11685  09/30/19 00:18   250 Meadow St, San Francisco, CA 94016     9  \n",
       "\n",
       "[1487600 rows x 7 columns]"
      ]
     },
     "execution_count": 6,
     "metadata": {},
     "output_type": "execute_result"
    }
   ],
   "source": [
    "#pour realiser cela il faudra isoler le mois de la date qui est dans ['Order Date']\n",
    "def mois(x) :\n",
    "    return x.split('/')[0]\n",
    "#mois('04/19/19 08:46') ==> ['04', '19', '19 08:46'] ----> sa c'est pour x.split('/')\n",
    "Donnees['Mois'] = Donnees['Order Date'].apply(mois) #Ajout d'un champs mois creer a partir de la fonction mois\n",
    "\n",
    "\n",
    "Donnees['Mois'].unique() ###---> En Sql fonction Distinct\n",
    "Donnees = Donnees[Donnees['Mois'] != 'Order Date'] #Pour Eliminer 'Order Date' de l'affichage des unique  \n",
    "\n",
    "\n",
    "Donnees.dtypes #----> Pour voir le type de données de chaque champs \n",
    "#On constate que Mois est en 'Object', il faurt donc le mettre en, entier \n",
    "Donnees['Mois'] = Donnees['Mois'].astype(int)\n",
    "Donnees.dtypes\n",
    "\n",
    "Donnees\n"
   ]
  },
  {
   "cell_type": "code",
   "execution_count": 7,
   "metadata": {},
   "outputs": [
    {
     "name": "stdout",
     "output_type": "stream",
     "text": [
      "Mois\n",
      "1     14578053.84\n",
      "2     17616179.36\n",
      "3     22456803.04\n",
      "4     27125361.92\n",
      "5     25220854.00\n",
      "6     20622418.08\n",
      "7     21182206.08\n",
      "8     17955743.04\n",
      "9     16780481.04\n",
      "10    29893815.04\n",
      "11    25596825.60\n",
      "12    36907546.72\n",
      "Name: Vente, dtype: float64\n",
      "le plus grand chiffre de vente est :  36907546.72\n"
     ]
    }
   ],
   "source": [
    "Donnees['Price Each'] = Donnees['Price Each'].astype(float)\n",
    "Donnees['Quantity Ordered'] = Donnees['Quantity Ordered'].astype(int)\n",
    "\n",
    "Donnees['Vente'] = Donnees['Price Each'] * Donnees['Quantity Ordered']\n",
    "\n",
    "v = Donnees.groupby('Mois')['Vente'].sum() #----> somme des ventes grouper par Mois\n",
    "print(v)\n",
    "\n",
    "print('le plus grand chiffre de vente est : ',max(v)) "
   ]
  },
  {
   "cell_type": "code",
   "execution_count": 8,
   "metadata": {},
   "outputs": [
    {
     "data": {
      "text/plain": [
       "<function matplotlib.pyplot.show(close=None, block=None)>"
      ]
     },
     "execution_count": 8,
     "metadata": {},
     "output_type": "execute_result"
    },
    {
     "data": {
      "image/png": "[encoded data removed]",
      "text/plain": [
       "<Figure size 432x288 with 1 Axes>"
      ]
     },
     "metadata": {
      "needs_background": "light"
     },
     "output_type": "display_data"
    }
   ],
   "source": [
    "mois = range(1, 13)\n",
    "plt.bar(mois, Donnees.groupby('Mois')['Vente'].sum())\n",
    "plt.xticks(mois)\n",
    "plt.xlabel('Mois')\n",
    "plt.ylabel('Vente en Dollar')\n",
    "plt.show"
   ]
  },
  {
   "cell_type": "markdown",
   "metadata": {},
   "source": [
    "<h1><b> 2- <u>Dans quel ville nous avons enregistrer un maximum de commandes ?</u></b></h1>"
   ]
  },
  {
   "cell_type": "code",
   "execution_count": 9,
   "metadata": {},
   "outputs": [
    {
     "data": {
      "text/plain": [
       "<function matplotlib.pyplot.show(close=None, block=None)>"
      ]
     },
     "execution_count": 9,
     "metadata": {},
     "output_type": "execute_result"
    },
    {
     "data": {
      "image/png": "[encoded data removed]",
      "text/plain": [
       "<Figure size 432x288 with 1 Axes>"
      ]
     },
     "metadata": {
      "needs_background": "light"
     },
     "output_type": "display_data"
    }
   ],
   "source": [
    "#pour realiser cela il faudra isoler la ville de l'adresse\n",
    "def ville(x) :\n",
    "    return x.split(',')[1]\n",
    "Donnees['Ville'] = Donnees['Purchase Address'].apply(ville) #Ajout d'un champs mois creer a partir de la fonction mois\n",
    "\n",
    "Donnees['Ville'].unique() ###---> En Sql fonction Distinct\n",
    "\n",
    "Donnees.groupby('Ville')['Ville'].count() #compter commande par ville\n",
    "\n",
    "vil_in = Donnees.groupby('Ville')['Ville'].count().index\n",
    "vi = Donnees.groupby('Ville')['Ville'].count()\n",
    "plt.bar(vil_in, vi)\n",
    "plt.xticks(rotation='vertical')\n",
    "plt.xlabel('Ville')\n",
    "plt.ylabel('Nombre de Commande')\n",
    "plt.show"
   ]
  },
  {
   "cell_type": "markdown",
   "metadata": {},
   "source": [
    "<h1><b> 3- <u>En quelle moment (Quand) doit on faire une compagne publicitaire pour avoir plus de ventes ?</u></b></h1>"
   ]
  },
  {
   "cell_type": "code",
   "execution_count": 10,
   "metadata": {},
   "outputs": [],
   "source": [
    "Donnees['Heure'] = pd.to_datetime(Donnees['Order Date']).dt.hour #creer un champ heure a l'aide de la table 'Order Date' ; Utilisation de fonction temporelle "
   ]
  },
  {
   "cell_type": "code",
   "execution_count": 11,
   "metadata": {},
   "outputs": [
    {
     "data": {
      "text/plain": [
       "[31280,\n",
       " 18800,\n",
       " 9944,\n",
       " 6648,\n",
       " 6832,\n",
       " 10568,\n",
       " 19856,\n",
       " 32088,\n",
       " 50048,\n",
       " 69984,\n",
       " 87552,\n",
       " 99288,\n",
       " 100696,\n",
       " 97032,\n",
       " 87872,\n",
       " 81400,\n",
       " 83072,\n",
       " 87192,\n",
       " 98240,\n",
       " 103240,\n",
       " 97824,\n",
       " 87368,\n",
       " 70576,\n",
       " 50200]"
      ]
     },
     "execution_count": 11,
     "metadata": {},
     "output_type": "execute_result"
    }
   ],
   "source": [
    "cles = []\n",
    "heures = []\n",
    "for cle, heure in Donnees.groupby('Heure'): \n",
    "    cles.append(cle)\n",
    "    heures.append(len(heure))\n",
    "heures"
   ]
  },
  {
   "cell_type": "code",
   "execution_count": 12,
   "metadata": {},
   "outputs": [
    {
     "data": {
      "text/plain": [
       "Text(0, 0.5, 'Nombre de Commande')"
      ]
     },
     "execution_count": 12,
     "metadata": {},
     "output_type": "execute_result"
    },
    {
     "data": {
      "image/png": "[encoded data removed]",
      "text/plain": [
       "<Figure size 432x288 with 1 Axes>"
      ]
     },
     "metadata": {
      "needs_background": "light"
     },
     "output_type": "display_data"
    }
   ],
   "source": [
    "plt.grid()\n",
    "plt.plot(cles, heures)\n",
    "plt.xlabel('heure de la journée')\n",
    "plt.ylabel('Nombre de Commande')"
   ]
  },
  {
   "cell_type": "markdown",
   "metadata": {},
   "source": [
    "A partir du graphe on voit que c'est entre ~ 12h et 19h qu'il y a un maximum de commande </br>\n",
    "Donc cet intervalle peut etre un bon moment pour le lancement d'une campagne publicitaire "
   ]
  },
  {
   "cell_type": "markdown",
   "metadata": {},
   "source": [
    "<h1><b> 4- <u>Quel Produit se vend plus ?</u></b></h1>"
   ]
  },
  {
   "cell_type": "code",
   "execution_count": 22,
   "metadata": {},
   "outputs": [
    {
     "data": {
      "text/plain": [
       "<AxesSubplot:xlabel='Product'>"
      ]
     },
     "execution_count": 22,
     "metadata": {},
     "output_type": "execute_result"
    },
    {
     "data": {
      "image/png": "[encoded data removed]",
      "text/plain": [
       "<Figure size 432x288 with 1 Axes>"
      ]
     },
     "metadata": {
      "needs_background": "light"
     },
     "output_type": "display_data"
    }
   ],
   "source": [
    "Donnees.groupby('Product')['Quantity Ordered'].sum().plot(kind='bar')\n"
   ]
  },
  {
   "cell_type": "markdown",
   "metadata": {},
   "source": [
    " 1-1 Examniner l'impact du prix Pour comprendre pourquoi certains produits se vendent plus"
   ]
  },
  {
   "cell_type": "code",
   "execution_count": 14,
   "metadata": {},
   "outputs": [
    {
     "data": {
      "text/plain": [
       "Product\n",
       "20in Monitor                   109.99\n",
       "27in 4K Gaming Monitor         389.99\n",
       "27in FHD Monitor               149.99\n",
       "34in Ultrawide Monitor         379.99\n",
       "AA Batteries (4-pack)            3.84\n",
       "AAA Batteries (4-pack)           2.99\n",
       "Apple Airpods Headphones       150.00\n",
       "Bose SoundSport Headphones      99.99\n",
       "Flatscreen TV                  300.00\n",
       "Google Phone                   600.00\n",
       "LG Dryer                       600.00\n",
       "LG Washing Machine             600.00\n",
       "Lightning Charging Cable        14.95\n",
       "Macbook Pro Laptop            1700.00\n",
       "ThinkPad Laptop                999.99\n",
       "USB-C Charging Cable            11.95\n",
       "Vareebadd Phone                400.00\n",
       "Wired Headphones                11.99\n",
       "iPhone                         700.00\n",
       "Name: Price Each, dtype: float64"
      ]
     },
     "execution_count": 14,
     "metadata": {},
     "output_type": "execute_result"
    }
   ],
   "source": [
    "Donnees.groupby('Product')['Price Each'].mean() #----> Moyenne des prix par produits "
   ]
  },
  {
   "cell_type": "code",
   "execution_count": 15,
   "metadata": {},
   "outputs": [],
   "source": [
    "Produit = Donnees.groupby('Product')['Quantity Ordered'].sum().index\n",
    "Quantite = Donnees.groupby('Product')['Quantity Ordered'].sum()\n",
    "Prix = Donnees.groupby('Product')['Price Each'].mean()\n"
   ]
  },
  {
   "cell_type": "code",
   "execution_count": 16,
   "metadata": {},
   "outputs": [
    {
     "name": "stderr",
     "output_type": "stream",
     "text": [
      "C:\\Users\\CARLEL~1\\AppData\\Local\\Temp/ipykernel_12992/2172598457.py:6: UserWarning: FixedFormatter should only be used together with FixedLocator\n",
      "  ax1.set_xticklabels(Produit, rotation='vertical', size=9)\n"
     ]
    },
    {
     "data": {
      "text/plain": [
       "[Text(0, 0, '20in Monitor'),\n",
       " Text(1, 0, '27in 4K Gaming Monitor'),\n",
       " Text(2, 0, '27in FHD Monitor'),\n",
       " Text(3, 0, '34in Ultrawide Monitor'),\n",
       " Text(4, 0, 'AA Batteries (4-pack)'),\n",
       " Text(5, 0, 'AAA Batteries (4-pack)'),\n",
       " Text(6, 0, 'Apple Airpods Headphones'),\n",
       " Text(7, 0, 'Bose SoundSport Headphones'),\n",
       " Text(8, 0, 'Flatscreen TV'),\n",
       " Text(9, 0, 'Google Phone'),\n",
       " Text(10, 0, 'LG Dryer'),\n",
       " Text(11, 0, 'LG Washing Machine'),\n",
       " Text(12, 0, 'Lightning Charging Cable'),\n",
       " Text(13, 0, 'Macbook Pro Laptop'),\n",
       " Text(14, 0, 'ThinkPad Laptop'),\n",
       " Text(15, 0, 'USB-C Charging Cable'),\n",
       " Text(16, 0, 'Vareebadd Phone'),\n",
       " Text(17, 0, 'Wired Headphones'),\n",
       " Text(18, 0, 'iPhone')]"
      ]
     },
     "execution_count": 16,
     "metadata": {},
     "output_type": "execute_result"
    },
    {
     "data": {
      "text/plain": [
       "<Figure size 10800x7200 with 0 Axes>"
      ]
     },
     "metadata": {},
     "output_type": "display_data"
    },
    {
     "data": {
      "image/png": "[encoded data removed]",
      "text/plain": [
       "<Figure size 432x288 with 2 Axes>"
      ]
     },
     "metadata": {
      "needs_background": "light"
     },
     "output_type": "display_data"
    }
   ],
   "source": [
    "plt.figure(figsize=(150,100))\n",
    "plt,ax1 = plt.subplots()\n",
    "ax2=ax1.twinx()\n",
    "ax1.bar(Produit, Quantite, color='g')\n",
    "ax2.plot(Produit, Prix, 'b-')\n",
    "ax1.set_xticklabels(Produit, rotation='vertical', size=9)"
   ]
  },
  {
   "cell_type": "markdown",
   "metadata": {},
   "source": [
    "On remarque que plus le prix est bas, plus la quantité commandé est élévé"
   ]
  },
  {
   "cell_type": "markdown",
   "metadata": {},
   "source": [
    "<h1><b> 5- <u>Quel est la combinaison des produits qui est le plus vendu</u></b></h1>"
   ]
  },
  {
   "cell_type": "markdown",
   "metadata": {},
   "source": [
    "<u>En dautre mot</u> : Quel sont les produits combiné qui sont trés achetés par les clients "
   ]
  },
  {
   "cell_type": "code",
   "execution_count": 17,
   "metadata": {},
   "outputs": [
    {
     "data": {
      "text/html": [
       "<div>\n",
       "<style scoped>\n",
       "    .dataframe tbody tr th:only-of-type {\n",
       "        vertical-align: middle;\n",
       "    }\n",
       "\n",
       "    .dataframe tbody tr th {\n",
       "        vertical-align: top;\n",
       "    }\n",
       "\n",
       "    .dataframe thead th {\n",
       "        text-align: right;\n",
       "    }\n",
       "</style>\n",
       "<table border=\"1\" class=\"dataframe\">\n",
       "  <thead>\n",
       "    <tr style=\"text-align: right;\">\n",
       "      <th></th>\n",
       "      <th>Order ID</th>\n",
       "      <th>Product</th>\n",
       "      <th>Quantity Ordered</th>\n",
       "      <th>Price Each</th>\n",
       "      <th>Order Date</th>\n",
       "      <th>Purchase Address</th>\n",
       "      <th>Mois</th>\n",
       "      <th>Vente</th>\n",
       "      <th>Ville</th>\n",
       "      <th>Heure</th>\n",
       "      <th>Grouped</th>\n",
       "    </tr>\n",
       "  </thead>\n",
       "  <tbody>\n",
       "    <tr>\n",
       "      <th>0</th>\n",
       "      <td>176558</td>\n",
       "      <td>USB-C Charging Cable</td>\n",
       "      <td>2</td>\n",
       "      <td>11.95</td>\n",
       "      <td>04/19/19 08:46</td>\n",
       "      <td>917 1st St, Dallas, TX 75001</td>\n",
       "      <td>4</td>\n",
       "      <td>23.90</td>\n",
       "      <td>Dallas</td>\n",
       "      <td>8</td>\n",
       "      <td>USB-C Charging Cable,USB-C Charging Cable,USB-...</td>\n",
       "    </tr>\n",
       "    <tr>\n",
       "      <th>2</th>\n",
       "      <td>176559</td>\n",
       "      <td>Bose SoundSport Headphones</td>\n",
       "      <td>1</td>\n",
       "      <td>99.99</td>\n",
       "      <td>04/07/19 22:30</td>\n",
       "      <td>682 Chestnut St, Boston, MA 02215</td>\n",
       "      <td>4</td>\n",
       "      <td>99.99</td>\n",
       "      <td>Boston</td>\n",
       "      <td>22</td>\n",
       "      <td>Bose SoundSport Headphones,Bose SoundSport Hea...</td>\n",
       "    </tr>\n",
       "    <tr>\n",
       "      <th>3</th>\n",
       "      <td>176560</td>\n",
       "      <td>Google Phone</td>\n",
       "      <td>1</td>\n",
       "      <td>600.00</td>\n",
       "      <td>04/12/19 14:38</td>\n",
       "      <td>669 Spruce St, Los Angeles, CA 90001</td>\n",
       "      <td>4</td>\n",
       "      <td>600.00</td>\n",
       "      <td>Los Angeles</td>\n",
       "      <td>14</td>\n",
       "      <td>Google Phone,Wired Headphones,Google Phone,Wir...</td>\n",
       "    </tr>\n",
       "    <tr>\n",
       "      <th>5</th>\n",
       "      <td>176561</td>\n",
       "      <td>Wired Headphones</td>\n",
       "      <td>1</td>\n",
       "      <td>11.99</td>\n",
       "      <td>04/30/19 09:27</td>\n",
       "      <td>333 8th St, Los Angeles, CA 90001</td>\n",
       "      <td>4</td>\n",
       "      <td>11.99</td>\n",
       "      <td>Los Angeles</td>\n",
       "      <td>9</td>\n",
       "      <td>Wired Headphones,Wired Headphones,Wired Headph...</td>\n",
       "    </tr>\n",
       "    <tr>\n",
       "      <th>6</th>\n",
       "      <td>176562</td>\n",
       "      <td>USB-C Charging Cable</td>\n",
       "      <td>1</td>\n",
       "      <td>11.95</td>\n",
       "      <td>04/29/19 13:03</td>\n",
       "      <td>381 Wilson St, San Francisco, CA 94016</td>\n",
       "      <td>4</td>\n",
       "      <td>11.95</td>\n",
       "      <td>San Francisco</td>\n",
       "      <td>13</td>\n",
       "      <td>USB-C Charging Cable,USB-C Charging Cable,USB-...</td>\n",
       "    </tr>\n",
       "    <tr>\n",
       "      <th>...</th>\n",
       "      <td>...</td>\n",
       "      <td>...</td>\n",
       "      <td>...</td>\n",
       "      <td>...</td>\n",
       "      <td>...</td>\n",
       "      <td>...</td>\n",
       "      <td>...</td>\n",
       "      <td>...</td>\n",
       "      <td>...</td>\n",
       "      <td>...</td>\n",
       "      <td>...</td>\n",
       "    </tr>\n",
       "    <tr>\n",
       "      <th>186845</th>\n",
       "      <td>259353</td>\n",
       "      <td>AAA Batteries (4-pack)</td>\n",
       "      <td>3</td>\n",
       "      <td>2.99</td>\n",
       "      <td>09/17/19 20:56</td>\n",
       "      <td>840 Highland St, Los Angeles, CA 90001</td>\n",
       "      <td>9</td>\n",
       "      <td>8.97</td>\n",
       "      <td>Los Angeles</td>\n",
       "      <td>20</td>\n",
       "      <td>AAA Batteries (4-pack),AAA Batteries (4-pack),...</td>\n",
       "    </tr>\n",
       "    <tr>\n",
       "      <th>186846</th>\n",
       "      <td>259354</td>\n",
       "      <td>iPhone</td>\n",
       "      <td>1</td>\n",
       "      <td>700.00</td>\n",
       "      <td>09/01/19 16:00</td>\n",
       "      <td>216 Dogwood St, San Francisco, CA 94016</td>\n",
       "      <td>9</td>\n",
       "      <td>700.00</td>\n",
       "      <td>San Francisco</td>\n",
       "      <td>16</td>\n",
       "      <td>iPhone,iPhone,iPhone,iPhone,iPhone,iPhone,iPho...</td>\n",
       "    </tr>\n",
       "    <tr>\n",
       "      <th>186847</th>\n",
       "      <td>259355</td>\n",
       "      <td>iPhone</td>\n",
       "      <td>1</td>\n",
       "      <td>700.00</td>\n",
       "      <td>09/23/19 07:39</td>\n",
       "      <td>220 12th St, San Francisco, CA 94016</td>\n",
       "      <td>9</td>\n",
       "      <td>700.00</td>\n",
       "      <td>San Francisco</td>\n",
       "      <td>7</td>\n",
       "      <td>iPhone,iPhone,iPhone,iPhone,iPhone,iPhone,iPho...</td>\n",
       "    </tr>\n",
       "    <tr>\n",
       "      <th>186848</th>\n",
       "      <td>259356</td>\n",
       "      <td>34in Ultrawide Monitor</td>\n",
       "      <td>1</td>\n",
       "      <td>379.99</td>\n",
       "      <td>09/19/19 17:30</td>\n",
       "      <td>511 Forest St, San Francisco, CA 94016</td>\n",
       "      <td>9</td>\n",
       "      <td>379.99</td>\n",
       "      <td>San Francisco</td>\n",
       "      <td>17</td>\n",
       "      <td>34in Ultrawide Monitor,34in Ultrawide Monitor,...</td>\n",
       "    </tr>\n",
       "    <tr>\n",
       "      <th>186849</th>\n",
       "      <td>259357</td>\n",
       "      <td>USB-C Charging Cable</td>\n",
       "      <td>1</td>\n",
       "      <td>11.95</td>\n",
       "      <td>09/30/19 00:18</td>\n",
       "      <td>250 Meadow St, San Francisco, CA 94016</td>\n",
       "      <td>9</td>\n",
       "      <td>11.95</td>\n",
       "      <td>San Francisco</td>\n",
       "      <td>0</td>\n",
       "      <td>USB-C Charging Cable,USB-C Charging Cable,USB-...</td>\n",
       "    </tr>\n",
       "  </tbody>\n",
       "</table>\n",
       "<p>178437 rows × 11 columns</p>\n",
       "</div>"
      ],
      "text/plain": [
       "       Order ID                     Product  Quantity Ordered  Price Each  \\\n",
       "0        176558        USB-C Charging Cable                 2       11.95   \n",
       "2        176559  Bose SoundSport Headphones                 1       99.99   \n",
       "3        176560                Google Phone                 1      600.00   \n",
       "5        176561            Wired Headphones                 1       11.99   \n",
       "6        176562        USB-C Charging Cable                 1       11.95   \n",
       "...         ...                         ...               ...         ...   \n",
       "186845   259353      AAA Batteries (4-pack)                 3        2.99   \n",
       "186846   259354                      iPhone                 1      700.00   \n",
       "186847   259355                      iPhone                 1      700.00   \n",
       "186848   259356      34in Ultrawide Monitor                 1      379.99   \n",
       "186849   259357        USB-C Charging Cable                 1       11.95   \n",
       "\n",
       "            Order Date                         Purchase Address  Mois   Vente  \\\n",
       "0       04/19/19 08:46             917 1st St, Dallas, TX 75001     4   23.90   \n",
       "2       04/07/19 22:30        682 Chestnut St, Boston, MA 02215     4   99.99   \n",
       "3       04/12/19 14:38     669 Spruce St, Los Angeles, CA 90001     4  600.00   \n",
       "5       04/30/19 09:27        333 8th St, Los Angeles, CA 90001     4   11.99   \n",
       "6       04/29/19 13:03   381 Wilson St, San Francisco, CA 94016     4   11.95   \n",
       "...                ...                                      ...   ...     ...   \n",
       "186845  09/17/19 20:56   840 Highland St, Los Angeles, CA 90001     9    8.97   \n",
       "186846  09/01/19 16:00  216 Dogwood St, San Francisco, CA 94016     9  700.00   \n",
       "186847  09/23/19 07:39     220 12th St, San Francisco, CA 94016     9  700.00   \n",
       "186848  09/19/19 17:30   511 Forest St, San Francisco, CA 94016     9  379.99   \n",
       "186849  09/30/19 00:18   250 Meadow St, San Francisco, CA 94016     9   11.95   \n",
       "\n",
       "                 Ville  Heure  \\\n",
       "0               Dallas      8   \n",
       "2               Boston     22   \n",
       "3          Los Angeles     14   \n",
       "5          Los Angeles      9   \n",
       "6        San Francisco     13   \n",
       "...                ...    ...   \n",
       "186845     Los Angeles     20   \n",
       "186846   San Francisco     16   \n",
       "186847   San Francisco      7   \n",
       "186848   San Francisco     17   \n",
       "186849   San Francisco      0   \n",
       "\n",
       "                                                  Grouped  \n",
       "0       USB-C Charging Cable,USB-C Charging Cable,USB-...  \n",
       "2       Bose SoundSport Headphones,Bose SoundSport Hea...  \n",
       "3       Google Phone,Wired Headphones,Google Phone,Wir...  \n",
       "5       Wired Headphones,Wired Headphones,Wired Headph...  \n",
       "6       USB-C Charging Cable,USB-C Charging Cable,USB-...  \n",
       "...                                                   ...  \n",
       "186845  AAA Batteries (4-pack),AAA Batteries (4-pack),...  \n",
       "186846  iPhone,iPhone,iPhone,iPhone,iPhone,iPhone,iPho...  \n",
       "186847  iPhone,iPhone,iPhone,iPhone,iPhone,iPhone,iPho...  \n",
       "186848  34in Ultrawide Monitor,34in Ultrawide Monitor,...  \n",
       "186849  USB-C Charging Cable,USB-C Charging Cable,USB-...  \n",
       "\n",
       "[178437 rows x 11 columns]"
      ]
     },
     "execution_count": 17,
     "metadata": {},
     "output_type": "execute_result"
    }
   ],
   "source": [
    "#Recherche de combinaison a partir de de l'ID car un un panier pour plusieurs produits (ID pour plusieur produits)\n",
    "df = Donnees[Donnees['Order ID'].duplicated(keep=False)] \n",
    "\n",
    "df['Grouped'] = df.groupby('Order ID')['Product'].transform(lambda x: ','.join(x)) #faire groupe par panier pour ID \n",
    "\n",
    "df2 = df.drop_duplicates(subset=['Order ID']) #eliminer les doublons qui ont les memes groupages\n",
    "\n",
    "df2"
   ]
  },
  {
   "cell_type": "code",
   "execution_count": 18,
   "metadata": {},
   "outputs": [
    {
     "data": {
      "text/plain": [
       "<AxesSubplot:ylabel='Grouped'>"
      ]
     },
     "execution_count": 18,
     "metadata": {},
     "output_type": "execute_result"
    },
    {
     "data": {
      "image/png": "[encoded data removed]",
      "text/plain": [
       "<Figure size 432x288 with 1 Axes>"
      ]
     },
     "metadata": {},
     "output_type": "display_data"
    }
   ],
   "source": [
    "df2['Grouped'].value_counts() #Pour voir les combinaison très acheté\n",
    "df2['Grouped'].value_counts()[0:6] #6 combinaison très acheté\n",
    "df2['Grouped'].value_counts()[0:5].plot.pie() #Diagramme par secteur"
   ]
  }
 ],
 "metadata": {
  "interpreter": {
   "hash": "d6ca2a292a4b52c4142e8bc3c5b12afae78448b15ea690b87880d9a108cd2278"
  },
  "kernelspec": {
   "display_name": "Python 3.10.0 64-bit",
   "language": "python",
   "name": "python3"
  },
  "language_info": {
   "codemirror_mode": {
    "name": "ipython",
    "version": 3
   },
   "file_extension": ".py",
   "mimetype": "text/x-python",
   "name": "python",
   "nbconvert_exporter": "python",
   "pygments_lexer": "ipython3",
   "version": "3.10.0"
  },
  "orig_nbformat": 4
 },
 "nbformat": 4,
 "nbformat_minor": 2
}
